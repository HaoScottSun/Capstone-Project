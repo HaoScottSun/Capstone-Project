{
 "cells": [
  {
   "cell_type": "markdown",
   "metadata": {},
   "source": [
    "### 1.Introduction"
   ]
  },
  {
   "cell_type": "markdown",
   "metadata": {},
   "source": [
    "This Project aims to give the best recommendation of opening a Chinese restaurant in New York, Manhattan. As we all know, New York city is famous for its centrality of finance, culture and art. New York is also called the center of the universe. Everyday there are a lot of people coming and leaving this city. So it would be a high-return business to open a restaurant in the transportation center of east coast. \n",
    "As the core of the city, Manhattan district would be a wonderful choice for a new restaurant’s location. As the people flow in Manhattan is big enough, most of the restaurant will serve a line of waiting people. That means the substitution effect of restaurant is weak. So we can focus on seeking the location with most number of restaurant as our choice.\n",
    "\n",
    "\n",
    "Since we are going to open a Chinese restaurant, we would not like to compete with traditional ones. But we would like to find a similar business surrounding like Chinatown. So we will cluster all the locations and from the cluster having Chinatown in it, we will choose the one with the biggest proportion of restaurant as the final choice.\n",
    "\n",
    "\n",
    "The location with the most restaurant and is similar with Chinatown means the best choice for a new Chinese restaurant. Here we assume that a new launching of a restaurant will not change the situation of the whole market.\n"
   ]
  },
  {
   "cell_type": "markdown",
   "metadata": {},
   "source": [
    "### Data Description"
   ]
  },
  {
   "cell_type": "markdown",
   "metadata": {},
   "source": [
    "#### 1.New York Neighborhood Data"
   ]
  },
  {
   "cell_type": "markdown",
   "metadata": {},
   "source": [
    "The data set has a total of 5 boroughs and 306 neighborhoods. In order to segment the neighborhoods and explore them, we will essentially need a dataset that contains the 5 boroughs and the neighborhoods that exist in each borough as well as the latitude and longitude coordinates of each neighborhood."
   ]
  },
  {
   "cell_type": "markdown",
   "metadata": {},
   "source": [
    "#### 2.Neighborhood venues data:"
   ]
  },
  {
   "cell_type": "markdown",
   "metadata": {},
   "source": [
    "Next, we are going to start utilizing the Foursquare API to explore the neighborhoods and segment them. we will get the top 200 venues that are in each location within a radius of 1000 meters."
   ]
  },
  {
   "cell_type": "code",
   "execution_count": null,
   "metadata": {
    "collapsed": true
   },
   "outputs": [],
   "source": []
  }
 ],
 "metadata": {
  "kernelspec": {
   "display_name": "Python 3",
   "language": "python",
   "name": "python3"
  },
  "language_info": {
   "codemirror_mode": {
    "name": "ipython",
    "version": 3
   },
   "file_extension": ".py",
   "mimetype": "text/x-python",
   "name": "python",
   "nbconvert_exporter": "python",
   "pygments_lexer": "ipython3",
   "version": "3.6.1"
  }
 },
 "nbformat": 4,
 "nbformat_minor": 2
}
